{
 "cells": [
  {
   "cell_type": "markdown",
   "metadata": {
    "deletable": false,
    "editable": false,
    "nbgrader": {
     "cell_type": "markdown",
     "checksum": "4f35d0387d69210d26c28fdc1e7dffb1",
     "grade": false,
     "grade_id": "cell-c9cd9e550239e812",
     "locked": true,
     "schema_version": 3,
     "solution": false,
     "task": false
    }
   },
   "source": [
    "# Homework 2 (Total Points: 10) <a class=\"anchor\" id=\"top\"></a>\n",
    "\n",
    "\n",
    "## Submission instructions:\n",
    "\n",
    "- The assignment is designed for teams of two students.\n",
    "- Add your solutions to the cells with the following comment `# YOUR CODE HERE`, which denotes that these sections are graded.\n",
    "- The notebook that you will submit has to have the student ids, separated by underscores (E.g., `12341234_12341234.ipynb`). \n",
    "- This will be parsed by a regexp, so please double check your filename.\n",
    "- Only one member of each group should submit the notebook file to canvas.\n",
    "- Make sure to check that your notebook runs before submission. A quick way to do this is to restart the kernel and run all the cells.  \n",
    "- Please do not delete cells. Removing cells can lead to grade deduction. You are allowed to add cells for performing tests or adding auxiliary methods in the given cells.\n",
    "- Note, that you are not allowed to submit notebooks created with Google Colab. (The reason is that such notebooks do not work with our semi-automated grading system. You may work with Google Colab on developing your solutions. Please then just copy your answers into a new notebook that you haven't opened with Google Colab.)\n",
    "- Add your name and e-mail in the following cell:"
   ]
  },
  {
   "cell_type": "code",
   "execution_count": null,
   "metadata": {},
   "outputs": [],
   "source": [
    "## Add your information in here.\n",
    "NAME = \"\"\n",
    "NAME2 = \"\"\n",
    "EMAIL = \"\"\n",
    "EMAIL2 = \"\""
   ]
  },
  {
   "cell_type": "markdown",
   "metadata": {
    "deletable": false,
    "editable": false,
    "nbgrader": {
     "cell_type": "markdown",
     "checksum": "92be9fa3622de1ab33cf1b73218a20a2",
     "grade": false,
     "grade_id": "cell-4124ca27ec04260e",
     "locked": true,
     "schema_version": 3,
     "solution": false,
     "task": false
    }
   },
   "source": [
    "**Assignment instructions Goals**:\n",
    "\n",
    "In this assignment, you will program several algorithms related to BombKnightSudoku (a variant of Sudoku) on a $(k*k)^2$ size grid, for varying sizes of $k$. You will use several problem solving and search methods.\n",
    "\n",
    "The homework assignment consists of several parts (a)–(d). You get 1 point for free. For the rest parts you need to develop the following algorithms for solving sudoku game:\n",
    "\n",
    " - Part (a) 4pts: solving puzzles using SAT\n",
    " - Part (b) 4pts: solving puzzles using ASP\n",
    " - Part (c) 2pts: generating puzzles with unique solutions using ASP (or you may opt to solve an easier variant for a maximum of 1 point)\n",
    "\n",
    "**Game information: BombKnightSudoku's**\n",
    "\n",
    "Here follows a description of inputs and solutions for **BombKnightSudoku's**. These notions are similar (but not exactly the same) as for the Sudoku's that you might have seen elsewhere, generalized to arbitrary values of k (typically, $k=3$).\n",
    "\n",
    "An input consists of a $k$-by-$k$ grid of blocks, where each consisting of a $k$-by-$k$ grid of cells, forming a $(k*k)$-by-$(k*k)$ grid of cells. Each cell can (but must not) contain a value between 1 and $k*k$.\n",
    "\n",
    "An example is the following grid, for $k$=3, written out as $k*k$ lines, each consisting of $k*k$ numbers, separated by spaces. Here the value $0$ represents that a cell does not contain a value between $1$ and $k*k$.\n",
    "\n",
    "```\n",
    "0 0 0 0 0 0 0 0 0\n",
    "0 3 0 0 8 0 0 0 0\n",
    "0 0 0 0 0 0 0 0 0\n",
    "0 0 0 0 4 0 0 0 5\n",
    "0 0 0 0 0 0 0 2 7\n",
    "0 0 0 0 0 0 3 0 0\n",
    "0 0 0 0 0 0 9 0 0\n",
    "0 0 0 0 5 6 0 0 0\n",
    "0 0 0 0 0 0 0 0 0\n",
    "```\n",
    "\n",
    "Here is the same input, where now the $k$-by-$k$ blocks are separated from each other with whitespace.\n",
    "\n",
    "```\n",
    "0 0 0  0 0 0  0 0 0\n",
    "0 3 0  0 8 0  0 0 0\n",
    "0 0 0  0 0 0  0 0 0\n",
    "\n",
    "0 0 0  0 4 0  0 0 5\n",
    "0 0 0  0 0 0  0 2 7\n",
    "0 0 0  0 0 0  3 0 0\n",
    "\n",
    "0 0 0  0 0 0  9 0 0\n",
    "0 0 0  0 5 6  0 0 0\n",
    "0 0 0  0 0 0  0 0 0\n",
    "```\n",
    "\n",
    "A solution for a sudoku input is a $(k*k)$-by-$(k*k)$ grid (for the same $k$), where:\n",
    "\n",
    " - Each cell contains a value between 1 and $k*k$.\n",
    "If a cell ($i$,$j$) contains a value u in the input, then the cell ($i$,$j$) in the solution must contain the same value u.\n",
    " - Each two different cells in the same row must contain different values.\n",
    " - Each two different cells in the same column must contain different values.\n",
    " - Each two different cells in the same $k*k$ block must contain different values.\n",
    " - Each two different cells that are directly adjacent (horizontally, diagonally or vertically) must contain different values. In other words, a cell cannot contain the same value as any of the eight cells surrounding it.\n",
    " - Each two different cells that can be reached from each other with a single knight's move (as in Chess) must contain different values.\n",
    "\n",
    "(The last two constraints are what distinguish BombKnightSudoku's from regular Sudoku's.)\n",
    "\n",
    "For example, a solution for the input mentioned above is the following:\n",
    "\n",
    "```\n",
    "5 6 2 7 3 4 1 8 9\n",
    "7 3 4 1 8 9 5 6 2\n",
    "1 8 9 5 6 2 7 3 4\n",
    "6 2 7 3 4 1 8 9 5\n",
    "3 4 1 8 9 5 6 2 7\n",
    "8 9 5 6 2 7 3 4 1\n",
    "2 7 3 4 1 8 9 5 6\n",
    "4 1 8 9 5 6 2 7 3\n",
    "9 5 6 2 7 3 4 1 8\n",
    "```\n",
    "\n",
    "**Representation of inputs and outputs**\n",
    "\n",
    "Inputs are represented as a list of lists of numbers.\n",
    "For example, the BombKnightSudoku input above is represented as:\n",
    "\n",
    "```\n",
    "input =\n",
    "    [[0, 0, 0, 0, 0, 0, 0, 0, 0],\n",
    "     [0, 3, 0, 0, 8, 0, 0, 0, 0],\n",
    "     [0, 0, 0, 0, 0, 0, 0, 0, 0],\n",
    "     [0, 0, 0, 0, 4, 0, 0, 0, 5],\n",
    "     [0, 0, 0, 0, 0, 0, 0, 2, 7],\n",
    "     [0, 0, 0, 0, 0, 0, 3, 0, 0],\n",
    "     [0, 0, 0, 0, 0, 0, 9, 0, 0],\n",
    "     [0, 0, 0, 0, 5, 6, 0, 0, 0],\n",
    "     [0, 0, 0, 0, 0, 0, 0, 0, 0]]\n",
    "```\n",
    "\n",
    "Solutions are represented similarly, for example:\n",
    "\n",
    "```\n",
    "solution =\n",
    "    [[5, 6, 2, 7, 3, 4, 1, 8, 9],\n",
    "     [7, 3, 4, 1, 8, 9, 5, 6, 2],\n",
    "     [1, 8, 9, 5, 6, 2, 7, 3, 4],\n",
    "     [6, 2, 7, 3, 4, 1, 8, 9, 5],\n",
    "     [3, 4, 1, 8, 9, 5, 6, 2, 7],\n",
    "     [8, 9, 5, 6, 2, 7, 3, 4, 1],\n",
    "     [2, 7, 3, 4, 1, 8, 9, 5, 6],\n",
    "     [4, 1, 8, 9, 5, 6, 2, 7, 3],\n",
    "     [9, 5, 6, 2, 7, 3, 4, 1, 8]]\n",
    "```\n",
    "\n",
    "Note that some test_inputs are given in the auxiliary python file `sudoku_func.py` which are used for testing your methods."
   ]
  },
  {
   "cell_type": "markdown",
   "metadata": {
    "deletable": false,
    "editable": false,
    "nbgrader": {
     "cell_type": "markdown",
     "checksum": "00f4df288f322408bea9e433cabba249",
     "grade": false,
     "grade_id": "cell-7e1269eadb9b34d9",
     "locked": true,
     "schema_version": 3,
     "solution": false,
     "task": false
    }
   },
   "source": [
    "The necessary libraries for developing all necessary code can be found in the following block:"
   ]
  },
  {
   "cell_type": "code",
   "execution_count": null,
   "metadata": {
    "deletable": false,
    "editable": false,
    "nbgrader": {
     "cell_type": "code",
     "checksum": "61ce75347921c70fa005dba9b8bcf436",
     "grade": false,
     "grade_id": "cell-13efff64cfcbdf0f",
     "locked": true,
     "schema_version": 3,
     "solution": false,
     "task": false
    }
   },
   "outputs": [],
   "source": [
    "# Necessary libraries that will be employed\n",
    "import itertools\n",
    "from copy import deepcopy\n",
    "from dataclasses import dataclass\n",
    "from typing import List\n",
    "\n",
    "from sudoku_func import *\n",
    "\n",
    "#!{sys.executable} -m pip install clingo\n",
    "#!{sys.executable} -m pip install python-sat\n",
    "import clingo\n",
    "import pysat\n",
    "from pysat.formula import CNF\n",
    "from pysat.solvers import MinisatGH"
   ]
  },
  {
   "cell_type": "markdown",
   "metadata": {
    "deletable": false,
    "editable": false,
    "nbgrader": {
     "cell_type": "markdown",
     "checksum": "6633ccf9011a06a51c0cd591e178dd56",
     "grade": false,
     "grade_id": "cell-efba4ae065a0ea03",
     "locked": true,
     "schema_version": 3,
     "solution": false,
     "task": false
    }
   },
   "source": [
    "**N.B.** There are two *pysat* libraries. Please make sure to pip install python-sat (*not* pysat)."
   ]
  },
  {
   "cell_type": "markdown",
   "metadata": {
    "deletable": false,
    "editable": false,
    "nbgrader": {
     "cell_type": "markdown",
     "checksum": "35dc9d4a75e290d1a82cd398a5ebc786",
     "grade": false,
     "grade_id": "cell-d2c964d00ba4f4f2",
     "locked": true,
     "schema_version": 3,
     "solution": false,
     "task": false
    }
   },
   "source": [
    "**N.B.** Please make sure *not* to remove or change the code you have been given (e.g. do not add, modify or remove the function names, names of the parameters, etc.)."
   ]
  },
  {
   "cell_type": "markdown",
   "metadata": {
    "deletable": false,
    "editable": false,
    "nbgrader": {
     "cell_type": "markdown",
     "checksum": "ae9f72ec225a19c1f6e6d803389d84c8",
     "grade": false,
     "grade_id": "cell-8cf2970bd6c259f0",
     "locked": true,
     "schema_version": 3,
     "solution": false,
     "task": false
    }
   },
   "source": [
    "## (a): solving puzzles using SAT\n",
    "\n",
    "Again, implement an algorithm that takes as input a BombKnightSudoku input (for arbitrary `k`), and that outputs a generator that iterates over **all** solutions for this input.\n",
    "\n",
    "For this assignment, your algorithm should use the approach of encoding the BombKnightSudoku input into a propositional CNF formula &varphi;, calling a SAT solver to find satisfying assignments for &varphi;, and translating these assignments to solutions for the BombKnightSudoku input."
   ]
  },
  {
   "cell_type": "code",
   "execution_count": null,
   "metadata": {
    "deletable": false,
    "nbgrader": {
     "cell_type": "code",
     "checksum": "a973c6887f0924e181e3cd111946c050",
     "grade": false,
     "grade_id": "cell-940a32cfcc687489",
     "locked": false,
     "schema_version": 3,
     "solution": true,
     "task": false
    }
   },
   "outputs": [],
   "source": [
    "def solve_sudoku_SAT(sudoku, k):\n",
    "    \"\"\"\n",
    "    Solve a sudoku input by encoding the problem into SAT, calling a SAT solver, and retrieving the solution for the sudoku input from a satisfying truth assignment given by the SAT solver.\n",
    "\n",
    "    Parameters:\n",
    "        sudoku (list(list(int))): An input puzzle.\n",
    "        k (int): The dimension of the sudoku input.\n",
    "\n",
    "    Returns:\n",
    "        A generator using yield instead of returning a (list(list(list(int)))).\n",
    "    \"\"\"\n",
    "\n",
    "    # YOUR CODE HERE\n",
    "    raise NotImplementedError()"
   ]
  },
  {
   "cell_type": "markdown",
   "metadata": {
    "deletable": false,
    "editable": false,
    "nbgrader": {
     "cell_type": "markdown",
     "checksum": "6384a59e7fc7386a7d3d3714beb4d59d",
     "grade": false,
     "grade_id": "cell-d37310c039b4af45",
     "locked": true,
     "schema_version": 3,
     "solution": false,
     "task": false
    }
   },
   "source": [
    "The following code will test whether your provided solution has the correct number of solution for the test puzzles."
   ]
  },
  {
   "cell_type": "code",
   "execution_count": null,
   "metadata": {
    "deletable": false,
    "editable": false,
    "nbgrader": {
     "cell_type": "code",
     "checksum": "cf2f0bd0adddf0157f014a5f4d711a3e",
     "grade": true,
     "grade_id": "cell-4f0c31f4bfc245aa",
     "locked": true,
     "points": 4,
     "schema_version": 3,
     "solution": false,
     "task": false
    }
   },
   "outputs": [],
   "source": [
    "# This cell will test whether your code for solve_sudoku_SAT()\n",
    "# finds the right number of solutions on several test inputs.\n",
    "\n",
    "from sudoku_func import check_num_solutions\n",
    "from sudoku_func import test_inputs\n",
    "\n",
    "## Run tests\n",
    "for num, test_input in enumerate(test_inputs, 1):\n",
    "    print(\"- Testing on test input #{}\".format(num))\n",
    "    assert check_num_solutions(\n",
    "        test_input.sudoku,\n",
    "        test_input.k,\n",
    "        test_input.num_solutions,\n",
    "        solve_sudoku_SAT\n",
    "    ) == True\n",
    "    print(\"  Found exactly the set of correct solutions\")\n",
    "\n",
    "# (There will also be some hidden tests..)\n"
   ]
  },
  {
   "cell_type": "markdown",
   "metadata": {
    "deletable": false,
    "editable": false,
    "nbgrader": {
     "cell_type": "markdown",
     "checksum": "105f3bf9918eade91ad8934febb721df",
     "grade": false,
     "grade_id": "cell-32fff59253638b0d",
     "locked": true,
     "schema_version": 3,
     "solution": false,
     "task": false
    }
   },
   "source": [
    "## (b): solving puzzles using ASP\n",
    "\n",
    "Yet again, implement an algorithm that takes as input a BombKnightSudoku input (for arbitrary `k`), and that outputs a generator that iterates over **all** solutions for this input.\n",
    "\n",
    "For this assignment, your algorithm should use the approach of encoding the BombKnightSudoku input into an answer set program *P*, calling an ASP solver (i.e., clingo) to find answer sets for *P*, and translating these answer sets to solutions for the BombKnightSudoku input."
   ]
  },
  {
   "cell_type": "code",
   "execution_count": null,
   "metadata": {
    "deletable": false,
    "nbgrader": {
     "cell_type": "code",
     "checksum": "538d420b21ead9943effb9a11db90a50",
     "grade": false,
     "grade_id": "cell-e08fbc765eba6e6d",
     "locked": false,
     "schema_version": 3,
     "solution": true,
     "task": false
    }
   },
   "outputs": [],
   "source": [
    "def solve_sudoku_ASP(sudoku, k):\n",
    "    \"\"\"\n",
    "    Solve a sudoku input by encoding the problem into ASP, calling an ASP solver, and retrieving the solution for the sudoku input from an answer set given by the ASP solver.\n",
    "\n",
    "    Parameters:\n",
    "        sudoku (list(list(int))): An input puzzle.\n",
    "        k (int): The dimension of the sudoku input.\n",
    "\n",
    "    Returns:\n",
    "        A generator using yield instead of returning a (list(list(list(int)))).\n",
    "    \"\"\"\n",
    "\n",
    "    # YOUR CODE HERE\n",
    "    raise NotImplementedError()"
   ]
  },
  {
   "cell_type": "markdown",
   "metadata": {
    "deletable": false,
    "editable": false,
    "nbgrader": {
     "cell_type": "markdown",
     "checksum": "13ac59ba30aa732f1ff34ec2570130be",
     "grade": false,
     "grade_id": "cell-084d8b2db1352878",
     "locked": true,
     "schema_version": 3,
     "solution": false,
     "task": false
    }
   },
   "source": [
    "The following code will test whether your provided solution has the correct number of solution for the test puzzles."
   ]
  },
  {
   "cell_type": "code",
   "execution_count": null,
   "metadata": {
    "deletable": false,
    "editable": false,
    "nbgrader": {
     "cell_type": "code",
     "checksum": "35bee9c463003e8c77bfca9ca6828e9d",
     "grade": true,
     "grade_id": "cell-d58b222e808c0f0e",
     "locked": true,
     "points": 4,
     "schema_version": 3,
     "solution": false,
     "task": false
    }
   },
   "outputs": [],
   "source": [
    "# This cell will test whether your code for solve_sudoku_ASP()\n",
    "# finds the right number of solutions on several test inputs.\n",
    "\n",
    "from sudoku_func import check_num_solutions\n",
    "from sudoku_func import test_inputs\n",
    "\n",
    "## Run tests\n",
    "for num, test_input in enumerate(test_inputs, 1):\n",
    "    print(\"- Testing on test input #{}\".format(num))\n",
    "    assert check_num_solutions(\n",
    "        test_input.sudoku,\n",
    "        test_input.k,\n",
    "        test_input.num_solutions,\n",
    "        solve_sudoku_ASP\n",
    "    ) == True\n",
    "    print(\"  Found exactly the set of correct solutions\")\n",
    "\n",
    "# (There will also be some hidden tests..)\n"
   ]
  },
  {
   "cell_type": "markdown",
   "metadata": {
    "deletable": false,
    "editable": false,
    "nbgrader": {
     "cell_type": "markdown",
     "checksum": "1c54bc80f6f17658eb4874cfbf386877",
     "grade": false,
     "grade_id": "cell-3786c80eebd72d37",
     "locked": true,
     "schema_version": 3,
     "solution": false,
     "task": false
    }
   },
   "source": [
    "## (c): generating puzzles with unique solutions using ASP\n",
    "\n",
    "Implement an algorithm that generates `9`-by-`9` BombKnightSudoku inputs (i.e., `k=3`) that:\n",
    "1. have exactly 10 cells filled with a number between `1` and `9`,\n",
    "1. and have a unique solution.\n",
    "\n",
    "That is, your algorithm should output a generator that iterates over BombKnightSudoku inputs with the required properties.\n",
    "\n",
    "Your algorithm should use the approach of translating this problem to an answer set program *P*, calling an ASP solver (i.e., clingo) to find answer sets for *P*, and translating these answer sets to BombKnightSudoku inputs with the required properties.\n",
    "\n",
    "(To be clear: you may not 'hardcode' a list of BombKnightSudoku inputs in the answer set program *P*.)\n",
    "\n",
    "There are two variants of this assignment: a harder variant (d.I) and an easier variant (d.II). You may choose which variant you would like to solve.\n",
    "If you opt for the harder variant (d.I), you can get a maximum of 2 points for this assignment.\n",
    "If you opt for the easier variant (d.II), you can get a maximum of 1 points for this assignment.\n",
    "\n",
    "\n",
    "### (c.I) Harder variant (2pts):\n",
    "\n",
    "To solve the harder variant, your answer set program *P* should be such that for **each** BombKnightSudoku input *I* with the required properties, there is an answer set of *P* that corresponds to *I*. For this, you should express in *P* the constraints 1. (that exactly 10 cells are filled) and 2. (that the input has a unique solution).\n",
    "\n",
    "*Hint:* Use the technique of saturation to express constraint 2.\n",
    "\n",
    "### (c.II) Easier variant (1pt):\n",
    "\n",
    "To solve the easier variant, your answer set program *P* only needs to be such that for **a subset of** BombKnightSudoku inputs *I* with the required properties, there is an answer set of *P* that corresponds to *I*. For this, you could express in *P*, in addition to the constraint 1. (that exactly 10 cells are filled), some other property that entails constraint 2. (that the input has a unique solution).\n",
    "\n",
    "*Hint:* If a Sudoku input can be solved using some [basic strategies](http://pi.math.cornell.edu/~mec/Summer2009/Mahmood/Solve.html), it must have a unique solution. Consider variants of these basic strategies for BombKnightSudoku."
   ]
  },
  {
   "cell_type": "code",
   "execution_count": null,
   "metadata": {
    "deletable": false,
    "nbgrader": {
     "cell_type": "code",
     "checksum": "fcd97fa8d26280bded47e87a0fe56ca1",
     "grade": false,
     "grade_id": "cell-fb57584e65e58ba1",
     "locked": false,
     "schema_version": 3,
     "solution": true,
     "task": false
    }
   },
   "outputs": [],
   "source": [
    "def generate_puzzles_with_unique_solutions():\n",
    "    \"\"\"\n",
    "    Algorithm that generates BombKnightSudoku puzzles with a unique solution\n",
    "    and where exactly 10 cells are filled.\n",
    "    \n",
    "    Returns:\n",
    "        A generator using yield instead of returning a (list(list(list(int)))).\n",
    "    \"\"\"\n",
    "\n",
    "    # YOUR CODE HERE\n",
    "    raise NotImplementedError()"
   ]
  },
  {
   "cell_type": "code",
   "execution_count": null,
   "metadata": {
    "deletable": false,
    "editable": false,
    "nbgrader": {
     "cell_type": "code",
     "checksum": "6faa48b86dde0b88cfaa04788f91482b",
     "grade": true,
     "grade_id": "cell-d86460df48d77382",
     "locked": true,
     "points": 2,
     "schema_version": 3,
     "solution": false,
     "task": false
    }
   },
   "outputs": [],
   "source": [
    "# This cell will test whether your function yields\n",
    "# (at least) 10 different sudoku puzzles with unique solutions.\n",
    "\n",
    "# (These tests are hidden.)\n"
   ]
  }
 ],
 "metadata": {
  "kernelspec": {
   "display_name": "Python 3",
   "language": "python",
   "name": "python3"
  },
  "language_info": {
   "codemirror_mode": {
    "name": "ipython",
    "version": 3
   },
   "file_extension": ".py",
   "mimetype": "text/x-python",
   "name": "python",
   "nbconvert_exporter": "python",
   "pygments_lexer": "ipython3",
   "version": "3.6.12"
  },
  "toc": {
   "base_numbering": 1,
   "nav_menu": {},
   "number_sections": true,
   "sideBar": true,
   "skip_h1_title": false,
   "title_cell": "Table of Contents",
   "title_sidebar": "Contents",
   "toc_cell": false,
   "toc_position": {},
   "toc_section_display": true,
   "toc_window_display": true
  }
 },
 "nbformat": 4,
 "nbformat_minor": 4
}
